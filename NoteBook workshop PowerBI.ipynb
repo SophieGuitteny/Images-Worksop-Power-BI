{
 "cells": [
  {
   "cell_type": "markdown",
   "id": "eca6f877",
   "metadata": {},
   "source": [
    "<br>\n",
    "\n",
    "<span style=\"display: block; text-align: center; font-weight: 900; font-size: 2em;\">CREATE YOUR FIRST REPORT WITH POWER BI </span>\n",
    "<br>\n",
    "<center>💪💪💪\n"
   ]
  },
  {
   "attachments": {},
   "cell_type": "markdown",
   "id": "c4528156",
   "metadata": {},
   "source": [
    "<br>  \n",
    "<br>\n",
    "Welcome to this workshop 👋\n",
    " \n",
    "           \n",
    "## BEFORE THE WORKSHOP ⭐\n",
    "\n",
    "• Download the dataset : Ventes_boisson.xlsx\n",
    "• Download PowerBI Desktop from microsoft website :\n",
    "\n",
    "https://powerbi.microsoft.com/en-au/desktop/\n",
    "\n",
    "Set the english version : Fichier > Options et paramètres > Options > Paramètres régionaux  \n",
    "Then select Anglais (Etats_Unis) twice"
   ]
  },
  {
   "cell_type": "markdown",
   "id": "56fda566",
   "metadata": {},
   "source": [
    "## WORKSHOP OVERVIEW 🎥"
   ]
  },
  {
   "cell_type": "markdown",
   "id": "590def9c",
   "metadata": {},
   "source": [
    "In this workshop, you will discover the followings topics :\n",
    "\n",
    "•\tAn overview of Power BI ecosystem\n",
    "\n",
    "•\tHow to use Power Query to transform your data\n",
    "\n",
    "•\tHow to use Power BI Desktop to create visualizations \n"
   ]
  },
  {
   "cell_type": "markdown",
   "id": "ee98a605",
   "metadata": {},
   "source": [
    "## INTRODUCTION 🚀"
   ]
  },
  {
   "cell_type": "markdown",
   "id": "172f7df4",
   "metadata": {},
   "source": [
    "Power BI is a business analytics tool created by Microsoft that allows you to visualize and analyze data from various sources in a user-friendly way. \n",
    "\n",
    "It enables you to create interactive reports, dashboards, and data visualizations that can be shared with others in your organization.\n",
    "\n",
    "With Power BI, you can gain insights into your data and make data-driven decisions quickly and easily.\n",
    "\n",
    "This workshop is designed to introduce you the basics of Power BI and help you get started with visualizing and analysing your data. You will learn how to create your first report in one hour.\n",
    "\n",
    "We will be using a fictitious dataset called \"Ventes_boisson.xlxs\" which contains information on beverage orders, customers, quantities purchased, prices, and more. This dataset will be used to guide you through the process of creating a report from scratch, step-by-step. By the end of this workshop, you will have gained the skills and confidence to start building your own reports in Power BI, and begin leveraging data to make informed decisions in your organization.\n"
   ]
  },
  {
   "cell_type": "markdown",
   "id": "cab2fb3a",
   "metadata": {},
   "source": [
    "## POWER BI ECOSYSTEM 🤖"
   ]
  },
  {
   "cell_type": "markdown",
   "id": "5d37b7ae",
   "metadata": {},
   "source": [
    "The Power BI ecosystem includes several components that work together to enable data analysis and visualization. The three main components of the Power BI ecosystem are :\n",
    "\n",
    "•\tPower BI Desktop : a free desktop application for creating custom reports and visualizations.\n",
    "\n",
    "•\tPower BI Service : a cloud service that allows you to publish, share, and collaborate on reports and visualizations created with Power BI Desktop.\n",
    "\n",
    "•\tPower BI Mobile : a mobile app that allows you to access reports and visualizations created with Power BI Desktop or Power BI Service on mobile devices.\n",
    "\n",
    "\n",
    " \n",
    "\n"
   ]
  },
  {
   "cell_type": "markdown",
   "id": "df83ab5f",
   "metadata": {},
   "source": [
    "<img src=\"https://raw.githubusercontent.com/SophieGuitteny/Images-Worksop-Power-BI/master/image1_WS.png\" style=\"margin-left: 1cm; width: 650px\">"
   ]
  },
  {
   "cell_type": "markdown",
   "id": "e9344806",
   "metadata": {},
   "source": [
    "In this workshop, we will focus on creating a report with Power BI Desktop.\n"
   ]
  },
  {
   "cell_type": "markdown",
   "id": "6fe19a99",
   "metadata": {},
   "source": [
    "## OVERVIEW OF POWER BI DESKTOP USER INTERFACE 🧐"
   ]
  },
  {
   "cell_type": "markdown",
   "id": "7d81ddfb",
   "metadata": {},
   "source": [
    "<img src=\"https://raw.githubusercontent.com/SophieGuitteny/Images-Worksop-Power-BI/master/image2_WS.png\"  style=\" margin-left: 1cm; width: 650px\">"
   ]
  },
  {
   "cell_type": "markdown",
   "id": "5ca43e4c",
   "metadata": {},
   "source": [
    "  \n",
    "    \n",
    "1.\tRibbon - Displays common tasks that are associated with reports and visualizations.\n",
    "\n",
    "\n",
    "2.\tReport view, or canvas – This is where visualizations are created and arranged.\n",
    "You can switch between Report, Data, and Model views by selecting the icons in the left column.\n",
    "\n",
    "\n",
    "3.\tPages tab - Located along the bottom of the page, this area is where you would select or add a report page.\n",
    "\n",
    "\n",
    "4.\tData pane – Where you can view and manage the data tables.\n",
    "\n",
    "\n",
    "5.\tVisualizations pane – This is where you can create and customize visualizations that represent your data in various formats such as charts, tables and maps.\n",
    "\n",
    "\n",
    "6.\tFilters pane – This is where you can add, manage and apply filters to your report to refine the data and insights displayed in the visualizations.\n",
    "\n",
    "\n",
    "**Notice that the ribbon and the panels on the right side are specific to each view.**\n"
   ]
  },
  {
   "cell_type": "markdown",
   "id": "9cd877e7",
   "metadata": {},
   "source": [
    "\n",
    "## Let’s practise and create our first report 🧑‍🔧 \n",
    "\n",
    "But first what is a report ?\n",
    "\n",
    "It’s a way to represent a dataset through different visuals, where each visual represents a specific result. \n",
    "\n",
    "To do this, we need to follow five steps : \n",
    "\n",
    "-\timporting the dataset,\n",
    "-\tmodifying and validating the imported data\n",
    "-\tmodeling the data\n",
    "-\tfinalizing the data \n",
    "-\tcreating visuals.\n"
   ]
  },
  {
   "cell_type": "markdown",
   "id": "0f4d05e5",
   "metadata": {},
   "source": [
    "### STEP 1 : IMPORTING DATASET 📩"
   ]
  },
  {
   "cell_type": "markdown",
   "id": "d7376192",
   "metadata": {},
   "source": [
    "  \n",
    "To get started with Power BI Desktop, the first step is to **connect to data**. There are many different data sources you can connect to from Power BI Desktop.\n",
    "\n",
    "To import your data, from the Home ribbon select Get Data >\n",
    "\n",
    "<img src=\"https://raw.githubusercontent.com/SophieGuitteny/Images-Worksop-Power-BI/master/image3_WS.png\"  style=\" margin-left: 1cm; width: 650px\">"
   ]
  },
  {
   "cell_type": "markdown",
   "id": "8b4cb1cb",
   "metadata": {},
   "source": [
    "  \n",
    "There are all sorts of different data sources available.  \n",
    "Select Excel Workbook and choose Ventes_boisson.xlsx.  \n",
    "Select all the file then load.\n",
    "\n",
    "\n",
    "<img src=\"https://raw.githubusercontent.com/SophieGuitteny/Images-Worksop-Power-BI/master/image4_WS.png\"  style=\" margin-left: 6cm; width: 250px\">\n"
   ]
  },
  {
   "cell_type": "markdown",
   "id": "5b904a8c",
   "metadata": {},
   "source": [
    "Once the tables are loaded you can navigate to each view. The tables Clients, Commandes, Employes, Produits, Transporteurs are now available in the Data pane.\n",
    "  \n",
    "    \n",
    "    \n",
    "- The report view :  \n",
    "<br>\n",
    "<br>  \n",
    "<img src=\"https://raw.githubusercontent.com/SophieGuitteny/Images-Worksop-Power-BI/master/image5_WS.png\"  style=\" margin-left: 1cm; width: 650px\">\n",
    " <br>\n",
    "<br> \n",
    "- The data view : \n",
    "<br>\n",
    "<br>   \n",
    "<img src=\"https://raw.githubusercontent.com/SophieGuitteny/Images-Worksop-Power-BI/master/image6_WS.png\"  style=\" margin-left: 1cm; width: 650px\">\n",
    "<br>\n",
    "<br>  \n",
    "- The model view :\n",
    "<br>\n",
    "<br>  \n",
    "<img src=\"https://raw.githubusercontent.com/SophieGuitteny/Images-Worksop-Power-BI/master/image7_WS.png\"  style=\" margin-left: 1cm; width: 650px\">\n",
    "<br>\n",
    "\n",
    "\n",
    "We can observe that some joins between tables have been created automatically. Nevertheless some relationships between tables are missing : Produits/Commandes (on id Produit) and Clients/Commandes (on id Client).\n",
    "\n",
    "\n",
    "<span style=\"color: red;\"><b>Let's keep in mind that before creating visuals it will be mandatory to create relationships between those tables and build an optimized star schema.</b></span>\n"
   ]
  },
  {
   "cell_type": "markdown",
   "id": "f6ecd7e7",
   "metadata": {},
   "source": [
    "\n",
    "<div style=\"border: 2px solid black; padding: 20px; margin-left: 3cm; margin-right : 3cm\">\n",
    "    <center><b>🌟STAR SCHEMA 🌟</b></center>\n",
    "    \n",
    "                                                 \n",
    "\n",
    "A lot of data models are based on what we call a **Star Schema**. It is structured with :\n",
    "\n",
    "-\ta central table (Fact Table)\n",
    "-\tone or more Dimension Tables \n",
    "\n",
    "The central Table (Fact Table) is made from numeric values and one or more columns acting as keys to stitch to the other dimension tables.\n",
    "The fact table holds the data to be analyzed, and a dimension table stores data about the ways in which the data in the fact table.\n",
    "    \n",
    "<img src=\"https://raw.githubusercontent.com/SophieGuitteny/Images-Worksop-Power-BI/master/image8_WS.png\"  style=\" width: 400px\">\n",
    "    \n",
    "</div>\n",
    " "
   ]
  },
  {
   "cell_type": "markdown",
   "id": "6bce76aa",
   "metadata": {},
   "source": [
    "\n",
    "<span style=\"color: red;\"><b>As with any data project, it is also essential to clean and prepare the data before creating visualizations.  \n",
    "This will be our second step.</b></span>\n",
    "\n"
   ]
  },
  {
   "cell_type": "markdown",
   "id": "c0ebc99c",
   "metadata": {},
   "source": [
    "### STEP 2 : MODIFYING AND VALIDATING THE IMPORTED DATA 🧹\n"
   ]
  },
  {
   "cell_type": "markdown",
   "id": "1509bb3e",
   "metadata": {},
   "source": [
    "**Power Query editor** is the perfect tool to do this. Power Query is integrated into Power BI Desktop and enables users to prepare their data before analyzing it in Power BI Desktop. \n",
    "  \n",
    "To get to Power Query Editor, select Transform data from the Home tab of Power BI Desktop (view model)  \n"
   ]
  },
  {
   "cell_type": "markdown",
   "id": "73c62742",
   "metadata": {},
   "source": [
    "<img src=\"https://raw.githubusercontent.com/SophieGuitteny/Images-Worksop-Power-BI/master/image9_WS.png\"  style=\" margin-left: 1cm; width: 650px\">\n",
    "<br>"
   ]
  },
  {
   "cell_type": "markdown",
   "id": "73ea8634",
   "metadata": {},
   "source": [
    "Here's how Power Query Editor looks like :\n",
    "  \n",
    "  <img src=\"https://raw.githubusercontent.com/SophieGuitteny/Images-Worksop-Power-BI/master/image10_WS.png\"  style=\" margin-left: 1cm; width: 650px\">\n",
    "<br>\n",
    "\n",
    "1. In the ribbon, many buttons are now active to interact with the data in the query.\n",
    "2. In the left pane, queries (tables) are listed and available for selection, viewing, and shaping.\n",
    "3. In the center pane, data from the selected query is displayed and available for shaping.\n",
    "4. The Query Settings pane appears, listing the query's properties and applied steps.\n",
    "\n",
    "\n"
   ]
  },
  {
   "cell_type": "markdown",
   "id": "60b8cfbc",
   "metadata": {},
   "source": [
    "<span style='font-size:13pt;'><b>• Remove Blank Rows from Produits and Clients queries ✂️</b></span>\n",
    "\n",
    "\n",
    "In the left pane select the Produits query.\n",
    "In Home tab, click Reduce Rows then Remove Rows, then click Remove Blank Rows.\n",
    "<br> \n",
    "<br>\n",
    "<img src=\"https://raw.githubusercontent.com/SophieGuitteny/Images-Worksop-Power-BI/master/image11_WS.png\"  style=\" margin-left: 3cm; width: 180px\">\n",
    "<br>\n",
    "\n",
    "Similarly, you can repeat the previous steps for the Clients query to remove any blank rows.\n",
    "<br>\n",
    "<br> \n",
    "\n",
    "  \n",
    "  \n"
   ]
  },
  {
   "cell_type": "markdown",
   "id": "a2eb2ba4",
   "metadata": {},
   "source": [
    "<span style='font-size:13pt;'><b>• Remove Blank Columns from Clients and Commandes queries ✂️<b></span>\n",
    "\n",
    "\n",
    "In the left pane, select Clients query.\n",
    "Column5, Column6, Column7, Column8 and Column9 have to be removed.  \n",
    "\n",
    "Select those columns.\n",
    "  \n",
    "  Right-click on one of the selected columns, and select \"Remove Columns\" from the context menu : \n",
    "<br> \n",
    "\n",
    "<img src=\"https://raw.githubusercontent.com/SophieGuitteny/Images-Worksop-Power-BI/master/image12_WS.png\"  style=\" margin-left: 3cm; width: 400px\">\n",
    "<br>\n",
    "Alternatively, you can click on the \"Remove Columns\" button in the Home tab of the Power Query Editor : ribbon :\n",
    "\n",
    "<img src=\"https://raw.githubusercontent.com/SophieGuitteny/Images-Worksop-Power-BI/master/image13_WS.png\"  style=\" margin-left: 3cm; width: 200px\">\n",
    "<br>\n",
    "\n",
    "\n",
    "Similarly, you can repeat the previous steps for the Commandes query to remove any blank columns.\n",
    "\n",
    "<br>"
   ]
  },
  {
   "cell_type": "markdown",
   "id": "dcc99cc1",
   "metadata": {},
   "source": [
    "<span style='font-size:13pt;'><b>• Manage data types : check all column data types 🧐</b></span>\n",
    "\n",
    "\n",
    "The only problem is in the Produits table : we must change the type of Prix Unitaire HT column to Decimal Number.  \n",
    "First you will have to replace the point with a comma. Right click on the column and select replace :\n",
    "\n",
    "\n",
    "<img src=\"https://raw.githubusercontent.com/SophieGuitteny/Images-Worksop-Power-BI/master/image14_WS.png\"  style=\" width: 750px\">\n",
    "<br>\n",
    "\n",
    "Then click on ABC to change the type to Fixed decimal number :\n",
    "\n",
    "<img src=\"https://raw.githubusercontent.com/SophieGuitteny/Images-Worksop-Power-BI/master/image15_WS.png\"  style=\" margin-left: 3cm; width: 300px\">"
   ]
  },
  {
   "cell_type": "markdown",
   "id": "74700959",
   "metadata": {},
   "source": [
    "In order to uniformize the data we can also  transform all the text values to uppercase in certain columns.\n",
    "\n",
    "For example: \"In the Produits table, to uniformize the data in the 'categorie' column, right-click on the column and select 'Transform' > 'UPPERCASE'.\n",
    "\n",
    "<img src=\"https://raw.githubusercontent.com/SophieGuitteny/Images-Worksop-Power-BI/master/image16_WS.png\"  style=\" margin-left: 1cm; width: 650px\">\n",
    "\n",
    "<br>    \n",
    "In the Clients table : Transform all text values to uppercase from pays and ville columns too.\n",
    "  \n",
    " <br>\n",
    " <br>    "
   ]
  },
  {
   "cell_type": "markdown",
   "id": "3a329adb",
   "metadata": {},
   "source": [
    "**Data transformation and preparation with Power Query editor are now achieved. **  \n",
    "**Click Close & Apply to save and apply  changes you have made to your data in the Power Query Editor.**\n",
    "  \n",
    "  \n",
    "<img src=\"https://raw.githubusercontent.com/SophieGuitteny/Images-Worksop-Power-BI/master/image17_WS.png\"  style=\" margin-left: 3cm; width: 250px\">\n"
   ]
  },
  {
   "cell_type": "markdown",
   "id": "afcfd4e6",
   "metadata": {},
   "source": [
    "  \n",
    "  **We’re back to POWER BI Desktop.  \n",
    "The three Model view, Data view and Report view will always be considered in that order : from bottom to top.**\n"
   ]
  },
  {
   "cell_type": "markdown",
   "id": "4b26d4e1",
   "metadata": {},
   "source": [
    "### STEP 3 : MODELING THE DATA – Model view 💃"
   ]
  },
  {
   "cell_type": "markdown",
   "id": "e10f1a9e",
   "metadata": {},
   "source": [
    "<img src=\"https://raw.githubusercontent.com/SophieGuitteny/Images-Worksop-Power-BI/master/image18_WS.png\"  style=\" margin-left: 1cm; width: 650px\">\n"
   ]
  },
  {
   "cell_type": "markdown",
   "id": "9b85c835",
   "metadata": {},
   "source": [
    "The star schema is almost ready now. But two relationships are missing :\n",
    "  \n",
    "- between the Clients and Commandes tables. This relationship may be done on id Client.\n",
    "- between the Produits and Commandes tables. This relationship may be done on id Produit.\n",
    "\n",
    "To create those missing relationships :\n",
    "\n",
    "Choose Manage relationship > New\n",
    "And select tables and both id Client columns that are  :\n",
    "\n",
    "<img src=\"https://raw.githubusercontent.com/SophieGuitteny/Images-Worksop-Power-BI/master/image19_WS.png\"  style=\" margin-left: 1cm; width: 650px\">\n",
    "\n",
    "Repeat this previous step for the second missing relationship.\n",
    "\n",
    "\n"
   ]
  },
  {
   "cell_type": "markdown",
   "id": "d97de528",
   "metadata": {},
   "source": [
    "The star schema model is ready. \n",
    "\n",
    "You can hide id Client, id Produit, id Transporteur and id Employe by right-clicking on each column names.  \n",
    "They will be hidden in the Report view :\n",
    "\n",
    "<img src=\"https://raw.githubusercontent.com/SophieGuitteny/Images-Worksop-Power-BI/master/image20_WS.png\"  style=\" margin-left: 1cm; width: 650px\">\n"
   ]
  },
  {
   "cell_type": "markdown",
   "id": "e172021d",
   "metadata": {},
   "source": [
    "### STEP 4 :  FINALIZING THE DATA – Data view 🔢"
   ]
  },
  {
   "cell_type": "markdown",
   "id": "c7a1afd3",
   "metadata": {},
   "source": [
    "<img src=\"https://raw.githubusercontent.com/SophieGuitteny/Images-Worksop-Power-BI/master/image21_WS.png\"  style=\" margin-left: 1cm; width: 700px\">"
   ]
  },
  {
   "cell_type": "markdown",
   "id": "f42cb0b9",
   "metadata": {},
   "source": [
    "<span style='font-size:13pt;'><b>• Create hierarchies</b></span>\n",
    "\n",
    "In Power BI, creating hierarchies can help to organize and visualize data in a more structured way. Hierarchies allow you to group related data into a nested structure that can be used for drilling down or rolling up data.\n",
    "\n",
    "A Date hierarchy has been automatically created in the Commandes table: year/quarter/month/day.\n",
    "\n",
    "We are going to create a new hierarchy in the Clients table : Pays/Ville :\n",
    "\n",
    "On the right Data pane : click-right on Pays > Create hierarchy  \n",
    "Then click-right on Ville > Add to hierarchy > Pays Hierarchy\n",
    "<img src=\"https://raw.githubusercontent.com/SophieGuitteny/Images-Worksop-Power-BI/master/image22_WS.png\"  style=\" width: 300px\">\n",
    "\n",
    "\n",
    "The hierarchy can be used to quickly retrieve data about all the towns in a particular country, or to compare data across different countries.\n",
    "\n",
    "\n",
    "<br>\n",
    "Pays and Ville can now be hidden in the right Data pane :\n",
    "  \n",
    "  <img src=\"https://raw.githubusercontent.com/SophieGuitteny/Images-Worksop-Power-BI/master/image23_WS.png\"  style=\" width: 250px\">\n",
    "   \n",
    "  \n",
    "In the same way create a new hierarchy Categorie/Produit in Produits."
   ]
  },
  {
   "cell_type": "markdown",
   "id": "be7a3c2d",
   "metadata": {},
   "source": [
    "<span style='font-size:13pt;'><b>• Change Format</b></span>\n",
    "\n",
    "In the right Data pane select Date in Commandes.  \n",
    "In the ribbon set the Date Format to Short Date.\n",
    "  \n",
    "  \n",
    " <img src=\"https://raw.githubusercontent.com/SophieGuitteny/Images-Worksop-Power-BI/master/image24_WS.png\"  style=\" width: 250px\">\n",
    "\n"
   ]
  },
  {
   "cell_type": "markdown",
   "id": "26c91347",
   "metadata": {},
   "source": [
    "<span style='font-size:13pt;'><b>• Create new measure  </b></span>\n",
    "\n",
    "It's clear that we'll need to calculate the price of each order to perform analysis.\n",
    "\n",
    "In Power BI, measures are used to perform calculations on the data in your reports.   \n",
    "Measures are created using DAX (Data Analysis Expressions), which is a formula language used to create custom calculations in Power BI.\n",
    "\n",
    "So, let's create a measure to calculate the quantity times the unit product price of an order\n",
    "First, create a new table called \"_mesures\" to store all the measures you create. An empty table will appear :\n",
    "\n",
    "<img src=\"https://raw.githubusercontent.com/SophieGuitteny/Images-Worksop-Power-BI/master/image25_WS.png\"  style=\" width: 600px\">\n",
    "  \n",
    "<img src=\"https://raw.githubusercontent.com/SophieGuitteny/Images-Worksop-Power-BI/master/image26_WS.png\"  style=\" width: 200px\">\n",
    "\n",
    "<br>\n",
    "\n",
    "In the right Data pane, right-click on \"_mesures\" and select \"New measure\". Copy and paste the following formula to create the \"Montant HT\" measure:\n",
    "\n",
    "<br>\n",
    "<img src=\"https://raw.githubusercontent.com/SophieGuitteny/Images-Worksop-Power-BI/master/image27_WS.png\"  style=\" width: 650px\">\n",
    "<br>\n",
    "\n",
    "This formula uses the SUMX function to iterate over each row in the \"Commandes\" table and calculate the product of the \"Quantite\" and \"Prix Unitaire HT\" columns for that row. The result is then summed up to give the total amount for all rows in the table.\n",
    "\n",
    "Check the right pane to confirm that the \"Montant HT\" measure has been successfully created :\n",
    " \n",
    "<br>\n",
    "<img src=\"https://raw.githubusercontent.com/SophieGuitteny/Images-Worksop-Power-BI/master/image28_WS.png\"  style=\" width: 180px\">\n",
    "\n",
    "\n"
   ]
  },
  {
   "cell_type": "markdown",
   "id": "d31ca019",
   "metadata": {},
   "source": [
    "### STEP 5 : CREATING VISUALS – Report view 📊 📈"
   ]
  },
  {
   "cell_type": "markdown",
   "id": "aa3384c6",
   "metadata": {},
   "source": [
    "Now that we've made the necessary modifications to our data, it's time to create a report that will allow us to analyze and visualize our insights. 💪\n",
    "\n",
    "To begin creating a report, you first need to identify which fields you want to analyze and choose a visual that will best represent your data. Keep in mind that the visual you choose should accurately convey your insights to your audience. 🧠\n",
    "\n",
    "To create a visual, navigate to the Report view, select a visual from the Visualizations pane, and add data from one or more fields. Examples of visuals that can be used in Power BI include bar charts, line charts, scatter plots, and maps. A report page can contain one or more visuals, depending on your analysis needs.\n",
    "\n"
   ]
  },
  {
   "cell_type": "markdown",
   "id": "9af2c14d",
   "metadata": {},
   "source": [
    "### First page of report\n",
    "\n",
    "The first analysis I want to perform is related to sales by country over time, focusing on the amount of sales and the number of orders placed.  \n",
    "  \n",
    "Let's examine the number and amount of orders per month and year, broken down by country, and create the first page of our report.\n",
    "\n",
    "This is what we want to build :\n",
    "\n",
    "![image.png](attachment:image.png)\n",
    "\n",
    "Are you ready to start creating this report page ? \n",
    "\n",
    "\n",
    "Here are the steps to achieve the creation of this first page of the report :\n",
    "\n",
    "\n",
    "\n",
    "\n",
    "\n",
    "\n",
    "\n",
    "\n",
    "\n",
    "\n"
   ]
  },
  {
   "cell_type": "markdown",
   "id": "358c7865",
   "metadata": {},
   "source": [
    "<span style='font-size:13pt;'><b>• Create a title  </b></span>\n",
    "\n",
    "In the ribbon select Insert then Text box. Enter your title ANALYSE DES VENTES PAR PAYS\n",
    "\n",
    "<img src=\"https://raw.githubusercontent.com/SophieGuitteny/Images-Worksop-Power-BI/master/image29_WS.png\"  style=\" margin-left: 1cm; width: 650px\">\n",
    "\n",
    "Set the title format :\n",
    "\n",
    "In the format right pane select pane > effects with Visual border on and background > Color blue.  \n",
    "Change the color of the title text to white.\n",
    "\n",
    "<img src=\"https://raw.githubusercontent.com/SophieGuitteny/Images-Worksop-Power-BI/master/image30_WS.png\"  style=\" margin-left: 1cm; width: 650px\">\n",
    "\n"
   ]
  },
  {
   "cell_type": "markdown",
   "id": "5de591a4",
   "metadata": {},
   "source": [
    "<span style='font-size:13pt;'><b>• Create a single number card to display a single fact : Montant HT  </b></span>\n",
    "\n",
    "<img src=\"https://raw.githubusercontent.com/SophieGuitteny/Images-Worksop-Power-BI/master/image31_WS.png\"  style=\" margin-left: 1cm; width: 650px\">\n",
    "\n",
    "In the same way create a Nombre de Commandes card. You should first in the Data pane select Commandes>id Commande and in the ribbon select Format > Summarization and choose Count(Distinct) :\n",
    "\n",
    "<img src=\"https://raw.githubusercontent.com/SophieGuitteny/Images-Worksop-Power-BI/master/image32_WS.png\"  style=\" margin-left: 1cm; width: 650px\">\n",
    "\n"
   ]
  },
  {
   "cell_type": "markdown",
   "id": "d43a1f95",
   "metadata": {},
   "source": [
    "<span style='font-size:13pt;'><b>• Create a Line chart to show the sales over time</b></span>\n",
    "\n",
    "<img src=\"https://raw.githubusercontent.com/SophieGuitteny/Images-Worksop-Power-BI/master/image33_WS.png\"  style=\" margin-left: 1cm; width: 650px\">\n"
   ]
  },
  {
   "cell_type": "markdown",
   "id": "d25bdb14",
   "metadata": {},
   "source": [
    "<span style='font-size:13pt;'><b>• Create a Bar chart to show the number of commands over time</b></span>\n",
    "\n",
    "<img src=\"https://raw.githubusercontent.com/SophieGuitteny/Images-Worksop-Power-BI/master/image34_WS.png\"  style=\" margin-left: 1cm; width: 650px\">\n",
    "\n",
    "<img src=\"https://raw.githubusercontent.com/SophieGuitteny/Images-Worksop-Power-BI/master/image35_WS.png\"  style=\" margin-left: 1cm; width: 650px\">\n",
    "\n",
    "We want to analyze sales and order numbers by country. But you may ask, where are the countries in this report ❓❓\n",
    "   \n",
    "Well, it's very simple, just add a slicer ❗❗\n"
   ]
  },
  {
   "cell_type": "markdown",
   "id": "83c83d67",
   "metadata": {},
   "source": [
    "<span style='font-size:13pt;'><b>• Add a slicer</b></span>\n",
    "\n",
    "A slicer is a type of filter that users can interact with to filter data within a report. It's a powerful tool that enables users to select one or more filter values from a list, dropdown, or range slider and instantly update the visuals on the page based on the selected criteria.\n",
    "\n",
    "Let's create au Country slicer :\n",
    "\n",
    "<img src=\"https://raw.githubusercontent.com/SophieGuitteny/Images-Worksop-Power-BI/master/image36_WS.png\"  style=\" margin-left: 1cm; width: 650px\">\n",
    "\n",
    "Now, you can select your country and even your city using the hierarchy, and all the visuals on your page will be filtered accordingly :\n",
    "\n",
    "<br>\n",
    "\n",
    "\n",
    "<img src=\"https://raw.githubusercontent.com/SophieGuitteny/Images-Worksop-Power-BI/master/image37_WS.png\"  style=\" margin-left: 1cm; width: 650px\">\n",
    "\n"
   ]
  },
  {
   "cell_type": "markdown",
   "id": "124b5937",
   "metadata": {},
   "source": [
    "<span style='font-size:13pt;'><b>• Add a map</b></span>\n",
    "\n",
    "To complete this report, it would be helpful to visualize on a map the countries where orders have been placed, along with the order prices.\n",
    "  \n",
    "The size of the bubbles on the map can represent the order amounts, which allows us to easily see which countries have larger or smaller orders. This provides a visual representation of the data that can be easily understood at a glance.\n",
    "\n",
    "But if If space is limited to add a new visual at the bottom of your page, you can click on the page outside of the visuals and select 'Format' from the panel. Then go to 'Page Information' and click on 'Canvas Settings.' Under the 'Type' dropdown menu, select 'Custom' and adjust the height to 1000 pixels, for example. This will give you more space to add new visuals to your report.\n",
    "\n",
    "<img src=\"https://raw.githubusercontent.com/SophieGuitteny/Images-Worksop-Power-BI/master/image38_WS.png\"  style=\" margin-left: 1cm; width: 650px\">\n",
    "\n",
    "Here is the result :\n",
    "\n",
    "<img src=\"https://raw.githubusercontent.com/SophieGuitteny/Images-Worksop-Power-BI/master/image39_WS.png\"  style=\" margin-left: 1cm; width: 650px\">\n",
    "\n",
    "We are nearing the completion of the first page of our report, which presents sales by country. You can now disable the interactivity between the country slicer and the map. To do so, position yourself on the slicer, then select the 'Format' tab in the ribbon and choose 'Edit Interactions.' Once you've done that, an icon of a filter will appear on the top right of the map. Set it to 'None' to disable the interaction.\n",
    "\n"
   ]
  },
  {
   "cell_type": "markdown",
   "id": "ee56c9ce",
   "metadata": {},
   "source": [
    "<span style='font-size:13pt;'><b>• Formatting the Page and Adding a Logo</b></span>\n",
    "\n",
    "\n",
    "To format the page background, click on the page outside of the visuals and select 'Format' from the panel. Then go to 'Page Information' and click on 'Canvas background.' From there, you can set the color to grey and the transparency to 50% to create a more visually appealing report.\n",
    "\n",
    "To add a logo to the report, select 'Insert' from the ribbon and then choose 'Image.' From there, you can upload an image file of your logo and position it wherever you want on the report.\n",
    "\n",
    "With these formatting options in place, your report now has a professional and polished look. 💪\n",
    "\n",
    "\n",
    "<img src=\"https://raw.githubusercontent.com/SophieGuitteny/Images-Worksop-Power-BI/master/image40_WS.png\"  style=\" margin-left: 1cm; width: 650px\">\n"
   ]
  },
  {
   "cell_type": "markdown",
   "id": "dd77748e",
   "metadata": {},
   "source": [
    "### Second page of report\n",
    "\n",
    "\n",
    "\n",
    "It can also be valuable to analyze sales by product category and create meaningful visualizations. To add a page to your report, click on the plus button located in the bottom left corner of the report.\n",
    "\n",
    "Now it's up to you to create this new report page that includes two slicers (years and categories). You can explore and navigate through the various panels to design the page according to your needs :\n",
    "\n",
    "\n",
    "<img src=\"https://raw.githubusercontent.com/SophieGuitteny/Images-Worksop-Power-BI/master/image41_WS.png\"  style=\" margin-left: 1cm; width: 650px\">\n",
    " \n"
   ]
  },
  {
   "cell_type": "markdown",
   "id": "fd1950eb",
   "metadata": {},
   "source": [
    "## CONCLUSION 🌟\n",
    "\n",
    "\n",
    "This workshop has provided a hands-on introduction to Power BI desktop, highlighting its simplicity and ease of use.\n",
    "\n",
    "We have explored the crucial steps in creating a robust model, including importing and cleaning data with Power Query, building a star schema model, and creating measures to analyze data. We also learned how to create a simple report using the three primary views: model, data, and report.\n",
    "\n",
    "The star schema model proved to be an essential component in building an efficient and effective data model. Its ability to simplify complex data structures and improve query performance was highlighted.\n",
    "\n",
    "\n",
    "We have only scratched the surface of Power BI's capabilities, and the next logical step is to explore Power BI service to share and collaborate on our reports. With Power BI service, we can publish our reports, create dashboards, and enable collaboration among team members.\n",
    "\n",
    "Overall, this workshop demonstrated the power and versatility of Power BI and how it can help organizations make better decisions by leveraging their data. We hope that you found this workshop informative and valuable, and we encourage you to continue exploring the possibilities of Power BI.\n"
   ]
  }
 ],
 "metadata": {
  "kernelspec": {
   "display_name": "Python 3 (ipykernel)",
   "language": "python",
   "name": "python3"
  },
  "language_info": {
   "codemirror_mode": {
    "name": "ipython",
    "version": 3
   },
   "file_extension": ".py",
   "mimetype": "text/x-python",
   "name": "python",
   "nbconvert_exporter": "python",
   "pygments_lexer": "ipython3",
   "version": "3.9.13"
  }
 },
 "nbformat": 4,
 "nbformat_minor": 5
}
